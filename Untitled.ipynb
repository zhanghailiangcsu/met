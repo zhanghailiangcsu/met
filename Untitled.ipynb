{
 "cells": [
  {
   "cell_type": "code",
   "execution_count": 1,
   "id": "b6372619",
   "metadata": {},
   "outputs": [],
   "source": [
    "import numpy as np\n",
    "import rpy2.robjects as robjects\n",
    "from rpy2.robjects import numpy2ri\n",
    "import tensorflow as tf\n",
    "from tensorflow.keras.models import load_model\n",
    "from data_process import getfeature,data_resize\n",
    "import pandas as pd\n",
    "import matplotlib.pyplot as plt\n",
    "from sklearn.cross_decomposition import PLSRegression\n",
    "from sklearn.model_selection import train_test_split\n",
    "from sklearn.metrics import confusion_matrix\n",
    "import seaborn as sns \n",
    "from sklearn.linear_model import LinearRegression\n",
    "from sklearn.preprocessing import scale\n",
    "from sklearn.decomposition import PCA"
   ]
  },
  {
   "cell_type": "code",
   "execution_count": 2,
   "id": "0239e5b2",
   "metadata": {},
   "outputs": [],
   "source": [
    "def get_component(X):\n",
    "    svd = np.linalg.svd(X)\n",
    "    y = svd[1].reshape(len(svd[1]),1)\n",
    "    x = np.linspace(0,X.shape[0]-1,X.shape[0]).reshape(X.shape[0],1)\n",
    "    model = LinearRegression()\n",
    "    model = model.fit(x[12:,:], y[12:,:])\n",
    "    y2 = model.predict(x)\n",
    "    plt.scatter(x, y, c = 'r',marker='.',label = 'raw')\n",
    "    plt.plot(x,y2,c = 'b',label = 'Regression')\n",
    "    plt.xlabel('Number of component')\n",
    "    plt.ylabel('Eigenvalues')\n",
    "    plt.legend()\n",
    "    c = max([i for i in range(12) if y[i] > y2[i]])\n",
    "    return c\n",
    "\n",
    "def TPR(y_true,y_pred): \n",
    "    TP=tf.reduce_sum(y_true*tf.round(y_pred))\n",
    "    TN=tf.reduce_sum((1-y_true)*(1-tf.round(y_pred)))\n",
    "    FP=tf.reduce_sum((1-y_true)*tf.round(y_pred))\n",
    "    FN=tf.reduce_sum(y_true*(1-tf.round(y_pred)))\n",
    "    precision=TP/(TP+FN)\n",
    "    return precision\n",
    "\n",
    "def FPR(y_true,y_pred): \n",
    "    TP=tf.reduce_sum(y_true*tf.round(y_pred))\n",
    "    TN=tf.reduce_sum((1-y_true)*(1-tf.round(y_pred)))\n",
    "    FP=tf.reduce_sum((1-y_true)*tf.round(y_pred))\n",
    "    FN=tf.reduce_sum(y_true*(1-tf.round(y_pred)))\n",
    "    precision=FP/(TN+FP)\n",
    "    return precision\n",
    "\n",
    "def data_transform(data):\n",
    "    data = list(data)\n",
    "    data[0] = list(data[0])\n",
    "    data[1] = np.array(data[1])\n",
    "    data[2] = list(data[2])\n",
    "    data[2] = [np.array(i) for i in data[2]]\n",
    "    data[3] = list(data[3])\n",
    "    data[4] = np.array(data[4])\n",
    "    return data\n",
    "\n",
    "def get_kpic_roi(pics):\n",
    "    rois = []\n",
    "    for pic in pics:\n",
    "        p = pic[2]\n",
    "        roi = [list(i[:,1]) for i in p]\n",
    "        rois.append(roi)\n",
    "    return rois\n",
    "\n",
    "def model_process(model,pics):\n",
    "    result = []\n",
    "    roi= pics4[0]\n",
    "    for roi in pics:\n",
    "        intensity = [data_resize(i,256) for i in roi]\n",
    "        intensity2 = np.array(intensity)\n",
    "        feature = getfeature(roi)\n",
    "        feature2 = np.array(feature)\n",
    "        r = np.round(model.predict([intensity2,feature2]))\n",
    "        r= [index+1 for index,value in enumerate(r) if value == 0]\n",
    "        r = r[::-1]\n",
    "        result.append(r)\n",
    "    return result"
   ]
  },
  {
   "cell_type": "code",
   "execution_count": 3,
   "id": "23dbf8d2",
   "metadata": {},
   "outputs": [],
   "source": [
    "numpy2ri.activate()\n",
    "robjects.r('''source('R/kpic_process.R')''')\n",
    "kpic_pic = robjects.globalenv['kpic_pic']\n",
    "kpic_pic_set = robjects.globalenv['kpic_pic_set']\n",
    "kpic_group = robjects.globalenv['kpic_group']\n",
    "kpic_iso = robjects.globalenv['kpic_iso']\n",
    "kpic_mat = robjects.globalenv['kpic_mat']\n",
    "kpic_fill = robjects.globalenv['kpic_fill']\n",
    "kpic_pattern = robjects.globalenv['kpic_pattern']\n",
    "kpic_select = robjects.globalenv['kpic_select']"
   ]
  },
  {
   "cell_type": "code",
   "execution_count": 4,
   "id": "a0197411",
   "metadata": {},
   "outputs": [],
   "source": [
    "filename = 'E:/evaluation/MTBLS120/pos'\n",
    "pics = kpic_pic_set(filename,level = 5000)"
   ]
  },
  {
   "cell_type": "code",
   "execution_count": 5,
   "id": "e7d29feb",
   "metadata": {},
   "outputs": [],
   "source": [
    "pics2 = list(pics)\n",
    "pics3 = [data_transform(i) for i in pics2]\n",
    "pics4 = get_kpic_roi(pics3)\n",
    "_custom_objects = {\"TPR\":TPR, \"FPR\":FPR}\n",
    "dffROI_model = load_model('D:/code/evaluation/dffROI.h5',custom_objects=_custom_objects)\n",
    "result = model_process(dffROI_model,pics4)"
   ]
  },
  {
   "cell_type": "code",
   "execution_count": 6,
   "id": "9a8cf864",
   "metadata": {},
   "outputs": [],
   "source": [
    "del_list = []\n",
    "for d in range(len(result)):\n",
    "    d0 = kpic_select(result[d],pics2[d])\n",
    "    del_list.append(d0)\n",
    "del_rlist = robjects.ListVector([(str(i), x) for i, x in enumerate(del_list)])\n",
    "\n",
    "groups_align = kpic_group(del_rlist)\n",
    "groups_align = kpic_iso(groups_align)\n",
    "data = kpic_mat(groups_align)\n",
    "data = kpic_fill(data)\n",
    "data = list(data)\n",
    "data[3] = np.array(data[3])\n",
    "df = np.array(data[3])"
   ]
  },
  {
   "cell_type": "code",
   "execution_count": 7,
   "id": "2c4c6369",
   "metadata": {},
   "outputs": [
    {
     "data": {
      "image/png": "[encoded data removed]",
      "text/plain": [
       "<Figure size 432x288 with 1 Axes>"
      ]
     },
     "metadata": {
      "needs_background": "light"
     },
     "output_type": "display_data"
    }
   ],
   "source": [
    "X = df[6:,:]\n",
    "y1 = np.zeros((9,1))\n",
    "y2 = 1*np.ones((9,1))\n",
    "y3 = 2*np.ones((9,1))\n",
    "y4 = 3*np.ones((9,1))\n",
    "y = np.vstack((y1,y2,y3,y4))\n",
    "Y = y.ravel()\n",
    "Y = pd.get_dummies(Y)\n",
    "train_X,test_X, train_y, test_y = train_test_split(X,  Y, test_size=0.3)\n",
    "n_components = get_component(X)"
   ]
  },
  {
   "cell_type": "code",
   "execution_count": 8,
   "id": "b8898b49",
   "metadata": {},
   "outputs": [
    {
     "data": {
      "text/plain": [
       "<AxesSubplot:>"
      ]
     },
     "execution_count": 8,
     "metadata": {},
     "output_type": "execute_result"
    },
    {
     "data": {
      "image/png": "[encoded data removed]",
      "text/plain": [
       "<Figure size 432x288 with 2 Axes>"
      ]
     },
     "metadata": {
      "needs_background": "light"
     },
     "output_type": "display_data"
    }
   ],
   "source": [
    "model = PLSRegression(n_components)\n",
    "model.fit(train_X,train_y)\n",
    "y_pred = model.predict(test_X)\n",
    "y_pred = np.array([np.argmax(i) for i in y_pred])\n",
    "test_y = np.array([np.argmax(test_y.iloc[i,:]) for i in range(test_y.shape[0])])\n",
    "yp = model.predict(X)\n",
    "yp = np.array([np.argmax(i) for i in yp])\n",
    "yt = y.ravel()  \n",
    "test_mat = confusion_matrix(test_y,y_pred,labels=[0,1,2,3])\n",
    "test_mat = pd.DataFrame(test_mat)\n",
    "test_mat.columns = ['DM','SM3','WT','SM19']\n",
    "test_mat.index = ['DM','SM3','WT','SM19']\n",
    "sns.heatmap(test_mat,annot=True,center = 1,cmap=\"Blues\")"
   ]
  },
  {
   "cell_type": "code",
   "execution_count": null,
   "id": "632a3d95",
   "metadata": {},
   "outputs": [],
   "source": []
  }
 ],
 "metadata": {
  "kernelspec": {
   "display_name": "Python 3",
   "language": "python",
   "name": "python3"
  },
  "language_info": {
   "codemirror_mode": {
    "name": "ipython",
    "version": 3
   },
   "file_extension": ".py",
   "mimetype": "text/x-python",
   "name": "python",
   "nbconvert_exporter": "python",
   "pygments_lexer": "ipython3",
   "version": "3.6.8"
  }
 },
 "nbformat": 4,
 "nbformat_minor": 5
}
